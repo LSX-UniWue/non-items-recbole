{
 "cells": [
  {
   "cell_type": "code",
   "execution_count": null,
   "id": "08653448-e094-4e97-8679-b35211d75580",
   "metadata": {
    "tags": []
   },
   "outputs": [],
   "source": [
    "#!pip install pyyaml"
   ]
  },
  {
   "cell_type": "code",
   "execution_count": 1,
   "id": "e72909c0-a0f8-4fda-a817-a6b7bb680ff4",
   "metadata": {
    "tags": []
   },
   "outputs": [],
   "source": [
    "import yaml\n",
    "import os\n",
    "import pathlib"
   ]
  },
  {
   "cell_type": "code",
   "outputs": [],
   "source": [
    "def create_configs(working_directory, data_name, mode, ITEM_ID_FIELD, wandb_project, seed,MAX_ITEM_LIST_LENGTH):\n",
    "    config_base = working_directory+\"/{}/{}/base.yaml\".format(data_name,mode)\n",
    "    train_base = working_directory+\"/{}/{}/base-t.yaml\".format(data_name,mode)\n",
    "    subdir_path=working_directory+\"/models/\"\n",
    "    # Process each YAML file in the subdirectory\n",
    "\n",
    "    for filename in os.listdir(subdir_path):\n",
    "        if filename.endswith(\".yaml\"):\n",
    "            file_path = os.path.join(subdir_path, filename)\n",
    "\n",
    "            model_name= filename.split(\".\")[0]\n",
    "            #print(model_name)\n",
    "            m_name = model_name.lower()\n",
    "\n",
    "            checkpoint_dir = \"/home/ls6/fischer/kars/output/checkpoints/{}/{}/{}{}/\".format(data_mode,m_name, mode, seed)\n",
    "            wandb_name= \"{}-{}-{}\".format(data_name,mode,m_name)\n",
    "            config_name = wandb_name+\"-\"+str(seed)\n",
    "            final_config_path = \"{}/{}/{}/{}.yaml\".format(working_directory,data_name,mode,config_name)\n",
    "\n",
    "            # Load the YAML file from the ml subdirectory\n",
    "            with open(file_path, 'r') as file_stream_ml:\n",
    "                file_data_ml = yaml.safe_load(file_stream_ml)\n",
    "\n",
    "                with open(config_base, 'r') as file_stream_ml:\n",
    "                    file_base = yaml.safe_load(file_stream_ml)\n",
    "                    file_base[\"checkpoint_dir\"] = checkpoint_dir\n",
    "                    file_base[\"seed\"] = seed\n",
    "                    file_base[\"ITEM_ID_FIELD\"]= ITEM_ID_FIELD\n",
    "                    file_base[\"MAX_ITEM_LIST_LENGTH\"] =MAX_ITEM_LIST_LENGTH\n",
    "                    file_base[\"wandb_name\"] = wandb_name\n",
    "                    file_base[\"wandb_project\"] = wandb_project\n",
    "                    file_base = {**file_data_ml,**file_base}\n",
    "                    if file_base[\"model\"] == \"BERT4RecAttr\":\n",
    "                        file_base[\"masked_training\"] = True\n",
    "                        file_base[\"num_of_masked_items_choice\"] = \"variable_min\"\n",
    "                        file_base[\"MAX_ITEM_LIST_LENGTH\"] = file_base[\"MAX_ITEM_LIST_LENGTH\"]+1\n",
    "\n",
    "                with open(final_config_path, 'w') as output_file:\n",
    "                    yaml.dump(file_base, output_file, sort_keys=False)\n",
    "                    #print(\"PATH: \",final_config_path)\n",
    "\n"
   ],
   "metadata": {
    "collapsed": false
   },
   "id": "dc471faac2647ecd"
  },
  {
   "cell_type": "code",
   "execution_count": 4,
   "id": "c88dd75f-5d69-47a7-84cc-547630c0045e",
   "metadata": {},
   "outputs": [],
   "source": [
    "# Set the working directory\n",
    "working_directory = os.getcwd()\n"
   ]
  },
  {
   "cell_type": "code",
   "execution_count": 11,
   "id": "ad31992b-2646-4830-bae5-71335599faeb",
   "metadata": {},
   "outputs": [],
   "source": [
    "seq_length = {\"redial\":30, \"redial_tokens\":165, \"redial_items_only\":10, \"redial_noise\":30,\"redial_noise_items_only\":10, \"redial_tokens_noise\":165}\n",
    "for seed in [212, 6, 10, 404, 42]:\n",
    "    wandb_project= \"kars_redial\"\n",
    "    for data_name in [\"redial\",\"redial_tokens\", \"redial_items_only\", \"redial_noise\",\"redial_tokens_noise\"]:\n",
    "        for mode in [\"no_item_emb_subseq_on_test\", \"default_subseq_on_test\", \"no_item_emb\", \"default\", \"no_item_emb_subseq\", \"default_subseq\"]:\n",
    "            ITEM_ID_FIELD = \"title\"\n",
    "            create_configs(working_directory, data_name, mode, ITEM_ID_FIELD, wandb_project, seed, seq_length[data_name])\n",
    "    for data_name in [\"redial_tokens\",\"redial_tokens_noise\"]:\n",
    "        for mode in [\"message-no_item_emb_subseq_on_test\", \"message_subseq_on_test\", \"message-no_item_emb\", \"message\", \"message-no_item_emb_subseq\", \"message_subseq\"]:\n",
    "            ITEM_ID_FIELD = \"message\"\n",
    "            create_configs(working_directory, data_name, mode, ITEM_ID_FIELD, wandb_project, seed, seq_length[data_name])\n"
   ]
  },
  {
   "cell_type": "code",
   "execution_count": 12,
   "id": "e14eeea2-8550-4540-97e4-2a63e4546c0d",
   "metadata": {},
   "outputs": [],
   "source": [
    "seq_length = {\"twitch\":175, \"twitch_tokens\":640, \"twitch_items_only\":75}\n",
    "for seed in [212, 6, 10, 404, 42]:\n",
    "    wandb_project= \"kars_twitch\"\n",
    "    for data_name in [ \"twitch_items_only\",\"twitch\", \"twitch_tokens\"]:\n",
    "        for mode in [\"no_item_emb_subseq_on_test\", \"default_subseq_on_test\",\"no_item_emb\", \"default\", \"no_item_emb_subseq\", \"default_subseq\"]:\n",
    "            ITEM_ID_FIELD = \"title\"\n",
    "            create_configs(working_directory, data_name, mode, ITEM_ID_FIELD, wandb_project, seed, seq_length[data_name])\n",
    "    for data_name in [\"twitch_tokens\"]:\n",
    "        for mode in [\"message-no_item_emb_subseq_on_test\", \"message_subseq_on_test\",\"message-no_item_emb\", \"message\", \"message-no_item_emb_subseq\", \"message_subseq\"]:\n",
    "            ITEM_ID_FIELD = \"message\"\n",
    "            create_configs(working_directory, data_name, mode, ITEM_ID_FIELD, wandb_project, seed, seq_length[data_name])\n"
   ]
  },
  {
   "cell_type": "code",
   "execution_count": 14,
   "id": "5a500f60-1982-4ccb-9571-2910686a0346",
   "metadata": {},
   "outputs": [],
   "source": [
    "seq_length = {\"handball_with_contents\": 280 , \"handball_with_contents_items_only\": 90, \"handball_tokens_with_contents\": 1735}\n",
    "for seed in [212, 6, 10, 404, 42]:\n",
    "    wandb_project= \"kars_handball\"\n",
    "    for data_name in [\"handball_with_contents\", \"handball_with_contents_items_only\", \"handball_tokens_with_contents\"]:\n",
    "        for mode in [\"no_item_emb_subseq_on_test\", \"default_subseq_on_test\",\"no_item_emb\", \"default\", \"no_item_emb_subseq\", \"default_subseq\"]:\n",
    "            ITEM_ID_FIELD = \"title\"\n",
    "            create_configs(working_directory, data_name, mode, ITEM_ID_FIELD, wandb_project, seed, seq_length[data_name])\n",
    "    for data_name in [\"handball_tokens_with_contents\"]:\n",
    "        for mode in [\"message-no_item_emb_subseq_on_test\", \"message_subseq_on_test\",\"message-no_item_emb\", \"message\", \"message-no_item_emb_subseq\", \"message_subseq\"]:\n",
    "            ITEM_ID_FIELD = \"message\"\n",
    "            create_configs(working_directory, data_name, mode, ITEM_ID_FIELD, wandb_project, seed, seq_length[data_name])\n"
   ]
  },
  {
   "cell_type": "code",
   "execution_count": 5,
   "id": "013e73a1-fbb9-4769-8239-2b9fd7d5f9e7",
   "metadata": {},
   "outputs": [],
   "source": []
  },
  {
   "cell_type": "code",
   "execution_count": null,
   "id": "f8cca861-ae61-4482-a094-cea10d691819",
   "metadata": {},
   "outputs": [],
   "source": []
  }
 ],
 "metadata": {
  "kernelspec": {
   "display_name": "Python 3",
   "language": "python",
   "name": "python3"
  },
  "language_info": {
   "codemirror_mode": {
    "name": "ipython",
    "version": 3
   },
   "file_extension": ".py",
   "mimetype": "text/x-python",
   "name": "python",
   "nbconvert_exporter": "python",
   "pygments_lexer": "ipython3",
   "version": "3.11.6"
  }
 },
 "nbformat": 4,
 "nbformat_minor": 5
}
