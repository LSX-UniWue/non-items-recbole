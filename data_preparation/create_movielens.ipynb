{
 "cells": [
  {
   "cell_type": "code",
   "execution_count": null,
   "id": "initial_id",
   "metadata": {
    "collapsed": true
   },
   "outputs": [],
   "source": [
    "from data_prep import Movielens20MConverter\n",
    "from create_ml_datasets import create_extended_movielens_data\n",
    "from pathlib import Path"
   ]
  },
  {
   "cell_type": "markdown",
   "source": [],
   "metadata": {
    "collapsed": false
   },
   "id": "2ab9c6eb3d55f37"
  },
  {
   "cell_type": "code",
   "outputs": [],
   "source": [
    "output_directory: str = \"../dataset/ml-output\"\n",
    "input_directory: str = \"../dataset/ml-source\"\n",
    "#Create ml-20m Base Dataset\n",
    "converter = Movielens20MConverter()\n",
    "converter.apply(input_dir=input_directory,output_file=output_directory+\"/ml-20m\")"
   ],
   "metadata": {
    "collapsed": false
   },
   "id": "95d3b2e95dc6da84",
   "execution_count": null
  },
  {
   "cell_type": "code",
   "outputs": [],
   "source": [
    "# One of ml-20m-extended, ml-random-20m\n",
    "\n",
    "dataset_name = \"ml-20m-extended\"\n",
    "if dataset_name == \"ml-20m-extended\":\n",
    "    modified_pages = \"genres\"\n",
    "    fraction = 1.0\n",
    "if dataset_name == \"ml-random-20m-0.1\":\n",
    "    modified_pages = \"random\"\n",
    "    fraction = 0.1 # 10% of the data randomized\n",
    "\n",
    "final_output_dir = output_directory + \"/\" + dataset_name\n",
    "\n",
    "for stage in [\"test\",\"train\",\"validation\"]:\n",
    "    create_extended_movielens_data(output_directory+\"/ml-20m\",final_output_dir,\"ml-20m\",stage, modified_pages, fraction)"
   ],
   "metadata": {
    "collapsed": false
   },
   "id": "467bea8eea8965c",
   "execution_count": null
  },
  {
   "cell_type": "code",
   "outputs": [],
   "source": [],
   "metadata": {
    "collapsed": false
   },
   "id": "13a1cdc61b02b3f"
  }
 ],
 "metadata": {
  "kernelspec": {
   "display_name": "Python 3",
   "language": "python",
   "name": "python3"
  },
  "language_info": {
   "codemirror_mode": {
    "name": "ipython",
    "version": 2
   },
   "file_extension": ".py",
   "mimetype": "text/x-python",
   "name": "python",
   "nbconvert_exporter": "python",
   "pygments_lexer": "ipython2",
   "version": "2.7.6"
  }
 },
 "nbformat": 4,
 "nbformat_minor": 5
}
