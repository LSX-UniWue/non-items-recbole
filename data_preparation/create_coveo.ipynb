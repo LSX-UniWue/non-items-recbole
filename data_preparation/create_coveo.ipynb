{
 "cells": [
  {
   "cell_type": "code",
   "execution_count": null,
   "id": "initial_id",
   "metadata": {
    "collapsed": true
   },
   "outputs": [],
   "source": [
    "from data_prep import CoveoConverter\n",
    "from pathlib import Path"
   ]
  },
  {
   "cell_type": "code",
   "outputs": [],
   "source": [
    "output_directory: str = \"../dataset/coveo-output\"\n",
    "input_directory: str = \"../dataset/coveo-source\"\n",
    "dataset_name = \"coveo-sl-search\"\n",
    "#Coveo-Search\n",
    "\n",
    "if dataset_name == \"coveo-sl\":\n",
    "    search_sessions_only = True\n",
    "    include_search = False\n",
    "    include_pageviews = False\n",
    "if dataset_name == \"coveo-sl-search\":\n",
    "    include_pageviews= False\n",
    "    search_sessions_only= True\n",
    "    include_search= True\n",
    "if dataset_name == \"coveo\":\n",
    "    include_pageviews= False\n",
    "    search_sessions_only= False\n",
    "    include_search= False\n",
    "if dataset_name == \"coveo-pageview\":\n",
    "    include_pageviews= True\n",
    "    search_sessions_only= False\n",
    "    include_search= False\n",
    "\n",
    "\n",
    "filter_immediate_duplicates = True\n",
    "end_of_train: int = 1552138259347  # timestamp for ~ 70/15/15 split, based on item interactions\n",
    "end_of_validation: int = 1553704815974   \n",
    "min_sequence_length: int = 2\n",
    "min_item_feedback: int = 1\n",
    "\n",
    "converter = CoveoConverter(end_of_train, end_of_validation, min_item_feedback, min_sequence_length, include_pageviews,\n",
    "                           dataset_name, search_sessions_only, include_search, filter_immediate_duplicates, delimiter = \"\\t\")\n",
    "\n",
    "converter.apply(input_dir=input_directory,output_file=Path(output_directory))"
   ],
   "metadata": {
    "collapsed": false
   },
   "id": "95d3b2e95dc6da84",
   "execution_count": null
  }
 ],
 "metadata": {
  "kernelspec": {
   "display_name": "Python 3",
   "language": "python",
   "name": "python3"
  },
  "language_info": {
   "codemirror_mode": {
    "name": "ipython",
    "version": 2
   },
   "file_extension": ".py",
   "mimetype": "text/x-python",
   "name": "python",
   "nbconvert_exporter": "python",
   "pygments_lexer": "ipython2",
   "version": "2.7.6"
  }
 },
 "nbformat": 4,
 "nbformat_minor": 5
}
